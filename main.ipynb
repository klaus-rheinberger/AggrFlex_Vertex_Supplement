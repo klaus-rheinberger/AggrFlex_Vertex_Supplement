{
 "cells": [
  {
   "cell_type": "markdown",
   "id": "eadf721c-b98c-4a61-9629-c0f213121609",
   "metadata": {},
   "source": [
    "# Packages and Functions"
   ]
  },
  {
   "cell_type": "code",
   "execution_count": 1,
   "id": "91d57eac-b944-4db7-b1e8-11a40c45d99c",
   "metadata": {},
   "outputs": [],
   "source": [
    "import matplotlib.pyplot as plt\n",
    "import numpy as np\n",
    "from pytope import Polytope                        # only for plots\n",
    "from lib import functions_IABVG as my\n",
    "import time\n",
    "from itertools import product"
   ]
  },
  {
   "cell_type": "markdown",
   "id": "d6aa4660-b301-4b6a-9be2-1e69ce031539",
   "metadata": {},
   "source": [
    "# Configurations"
   ]
  },
  {
   "cell_type": "code",
   "execution_count": 2,
   "id": "00e1fbbf-42fa-4d4d-9d7b-1310654c33d7",
   "metadata": {},
   "outputs": [],
   "source": [
    "cfg = {}\n",
    "cfg[\"Households\"] = 2                               # number of household batteris\n",
    "cfg[\"Time periods\"] = 2                             # number of time periods\n",
    "cfg[\"dt\"] = 1/4                                     # step size\n",
    "cfg[\"Numb Cost Vectors\"] = 1\n",
    "cfg[\"path HH\"] = \"data/processed_hh/\"               # data path household demand\n",
    "cfg[\"path DA\"] = \"data/processed_da/\"               # data path prices\n",
    "cfg[\"Random Seed\"] = 95                             # Ranodm Seed\n",
    "cfg[\"Opt Type\"] = 1                                 # (0) min cost, (1) min peak\n",
    "cfg[\"G\"] = cfg[\"Time periods\"]*cfg[\"Time periods\"]  # number of signal vectors in {-1,1}^d (adjusts accuracy and computation time)"
   ]
  },
  {
   "cell_type": "markdown",
   "id": "1e467730-cd6c-49fe-b9f4-c9408523c5c1",
   "metadata": {},
   "source": [
    "# Data"
   ]
  },
  {
   "cell_type": "code",
   "execution_count": 3,
   "id": "74e6798d-eca2-4bab-8ea1-018847e586fa",
   "metadata": {},
   "outputs": [],
   "source": [
    "c_list,D = my.importData(cfg)\n",
    "c = c_list[0]\n",
    "D_aggr = np.sum(D,axis=0)\n",
    "batts = my.createRandomBatteryValues(cfg)\n",
    "A_list,b_list = my.get_Ab(cfg,batts)"
   ]
  },
  {
   "cell_type": "markdown",
   "id": "ba8dab12-b3b9-4091-a67d-6dbb112e7492",
   "metadata": {},
   "source": [
    "# Computations"
   ]
  },
  {
   "cell_type": "code",
   "execution_count": 4,
   "id": "3beb58be-9f0d-4cdd-875b-093e90997c6f",
   "metadata": {},
   "outputs": [
    {
     "name": "stdout",
     "output_type": "stream",
     "text": [
      "time taken: 0.0 s\n",
      "Set parameter Username\n",
      "Academic license - for non-commercial use only - expires 2024-12-04\n",
      "Peak Power UPR: 0.00 %\n"
     ]
    }
   ],
   "source": [
    "#np.random.seed(cfg[\"Random Seed\"]) # set random seed\n",
    "\n",
    "t0 = time.process_time() # start time\n",
    "# create siganl vectors in {-1,1}^d\n",
    "if cfg[\"Time periods\"] > 8:\n",
    "    arr = my.random_signals(cfg[\"Time periods\"],cfg[\"G\"])\n",
    "else:\n",
    "    arr = list(product([0, 1], repeat=cfg[\"Time periods\"]))\n",
    "\n",
    "# calculate approximation\n",
    "vertices = my.get_vertices(batts[\"S_0\"][0],batts[\"S_max\"][0],batts[\"S_min\"][0],batts[\"x_max\"][0],batts[\"x_min\"][0],batts[\"alpha\"][0],batts[\"S_f\"][0],cfg,arr)\n",
    "for i in range(1,cfg[\"Households\"]):\n",
    "    vertices += my.get_vertices(batts[\"S_0\"][i],batts[\"S_max\"][i],batts[\"S_min\"][i],batts[\"x_max\"][i],batts[\"x_min\"][i],batts[\"alpha\"][i],batts[\"S_f\"][i],cfg,arr)\n",
    "if cfg[\"Time periods\"] > 8:\n",
    "    vertices = np.concatenate((vertices,np.zeros([cfg[\"Time periods\"],1])),axis=1) # add vector of zeros if cfg[\"G\"] < 2^d\n",
    "print(f\"time taken: {time.process_time() - t0} s\") # stop time\n",
    "\n",
    "# calculate UPR values\n",
    "sol, sol_exact = my.costPeakReduction(A_list,b_list,vertices,D,c,cfg[\"dt\"],cfg[\"Time periods\"],cfg[\"Households\"],cfg[\"Opt Type\"]) \n",
    "if cfg[\"Opt Type\"] == 0:\n",
    "    UPR = 100*(c@(sol + D_aggr) - c@(sol_exact + D_aggr))/(c@D_aggr - c@(sol_exact + D_aggr))\n",
    "    print(f\"Cost UPR: {UPR:.2f} %\")\n",
    "elif cfg[\"Opt Type\"] == 1:\n",
    "    UPR = 100*(np.linalg.norm(sol + D_aggr, np.inf) - np.linalg.norm(sol_exact + D_aggr, np.inf))/(np.linalg.norm(D_aggr, np.inf) - np.linalg.norm(sol_exact + D_aggr, np.inf))\n",
    "    print(f\"Peak Power UPR: {UPR:.2f} %\")"
   ]
  },
  {
   "cell_type": "markdown",
   "id": "7953bd32-b668-4e5c-a988-4482b61e6452",
   "metadata": {},
   "source": [
    "# Figures"
   ]
  },
  {
   "cell_type": "code",
   "execution_count": 5,
   "id": "abc04a97-c769-49ff-a677-b88b6140fd59",
   "metadata": {},
   "outputs": [
    {
     "data": {
      "image/png": "[encoded data removed]",
      "text/plain": [
       "<Figure size 640x480 with 1 Axes>"
      ]
     },
     "metadata": {},
     "output_type": "display_data"
    }
   ],
   "source": [
    "if cfg[\"Time periods\"] == 2:\n",
    "    P = Polytope(A_list[0],b_list[0])\n",
    "    for i in range(1,cfg[\"Households\"]):\n",
    "        P = P + Polytope(A_list[i],b_list[i])\n",
    "        \n",
    "    V = P.V_sorted()\n",
    "    x_list = [item[0] for item in V]\n",
    "    x_list.append(V[0][0])\n",
    "    y_list = [item[1] for item in V]\n",
    "    y_list.append(V[0][1])\n",
    "    plt.plot(x_list,y_list,\"k\",label=\"M sum\")\n",
    "    plt.axis('equal')\n",
    "    \n",
    "    P = Polytope(vertices.T)\n",
    "    P.minimize_V_rep()\n",
    "    V = P.V_sorted()\n",
    "    x_list = [item[0] for item in V]\n",
    "    x_list.append(V[0][0])\n",
    "    y_list = [item[1] for item in V]\n",
    "    y_list.append(V[0][1])\n",
    "    plt.fill(x_list,y_list,\"g\",label=\"Approximation\")\n",
    "    plt.plot(x_list,y_list, \"rx\")\n",
    "    plt.plot(sol[0],sol[1],\"x\",color=\"black\",label=\"sol_approx\")\n",
    "    plt.plot(sol_exact[0],sol_exact[1],\".\",color=\"blue\",label=\"sol_exact\")\n",
    "    plt.grid()\n",
    "    plt.xlabel(\"$x_1$\")\n",
    "    plt.ylabel(\"$x_2$\")\n",
    "    plt.legend()"
   ]
  }
 ],
 "metadata": {
  "kernelspec": {
   "display_name": "Python 3 (ipykernel)",
   "language": "python",
   "name": "python3"
  },
  "language_info": {
   "codemirror_mode": {
    "name": "ipython",
    "version": 3
   },
   "file_extension": ".py",
   "mimetype": "text/x-python",
   "name": "python",
   "nbconvert_exporter": "python",
   "pygments_lexer": "ipython3",
   "version": "3.9.13"
  }
 },
 "nbformat": 4,
 "nbformat_minor": 5
}
